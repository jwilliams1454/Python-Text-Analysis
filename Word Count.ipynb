{
 "cells": [
  {
   "cell_type": "code",
   "execution_count": 1,
   "metadata": {},
   "outputs": [
    {
     "name": "stdout",
     "output_type": "stream",
     "text": [
      "{'the': 2, 'quick': 1, 'brown': 1, 'fox': 1, 'jumps': 1, 'over': 1, 'lazy': 1, 'dog.': 1}\n"
     ]
    }
   ],
   "source": [
    "def word_count(str):\n",
    "    counts = dict()\n",
    "    words = str.split()\n",
    "\n",
    "    for word in words:\n",
    "        if word in counts:\n",
    "            counts[word] += 1\n",
    "        else:\n",
    "            counts[word] = 1\n",
    "\n",
    "    return counts\n",
    "\n",
    "print( word_count('the quick brown fox jumps over the lazy dog.'))\n"
   ]
  },
  {
   "cell_type": "code",
   "execution_count": 4,
   "metadata": {},
   "outputs": [
    {
     "name": "stdout",
     "output_type": "stream",
     "text": [
      "{'the': 2, 'quick': 1, 'brown': 1, 'fox': 1, 'jumps': 1, 'over': 1, 'lazy': 1, 'dog.': 1}\n"
     ]
    }
   ],
   "source": [
    "def word_count(str):\n",
    "    counts = dict()\n",
    "    words = str.split()\n",
    "\n",
    "    for word in words:\n",
    "        if word in counts:\n",
    "            counts[word] += 1\n",
    "        else:\n",
    "            counts[word] = 1\n",
    "\n",
    "    return counts\n",
    "\n",
    "print( word_count(\"\"\"the quick brown fox jumps over the lazy dog.\"\"\"))"
   ]
  },
  {
   "cell_type": "code",
   "execution_count": 1,
   "metadata": {},
   "outputs": [
    {
     "name": "stdout",
     "output_type": "stream",
     "text": [
      "{'Lorem': 1, 'ipsum': 4, 'dolor': 4, 'sit': 6, 'amet,': 2, 'consectetur': 1, 'adipiscing': 1, 'elit.': 2, 'Duis': 3, 'commodo,': 1, 'risus': 4, 'eget': 7, 'pellentesque': 3, 'fermentum,': 1, 'tellus': 4, 'pulvinar': 4, 'tellus,': 1, 'nec': 4, 'placerat': 1, 'magna': 3, 'massa': 1, 'lectus.': 2, 'Nam': 3, 'neque': 4, 'ex,': 1, 'condimentum': 3, 'vitae': 4, 'maximus': 1, 'molestie': 2, 'eu': 4, 'quam.': 1, 'sollicitudin,': 1, 'sem': 3, 'quis': 3, 'suscipit': 3, 'luctus,': 2, 'leo': 1, 'nunc': 1, 'lacinia': 2, 'justo,': 1, 'venenatis': 3, 'est': 3, 'lobortis': 1, 'lorem.': 1, 'Vivamus': 3, 'egestas': 1, 'nisl,': 1, 'in': 3, 'dictum': 3, 'sapien': 4, 'vitae.': 2, 'Curabitur': 1, 'orci': 2, 'tristique': 1, 'libero': 2, 'fringilla,': 1, 'elementum.': 1, 'Vestibulum': 3, 'ante': 2, 'primis': 1, 'faucibus': 1, 'luctus': 1, 'et': 6, 'ultrices': 2, 'posuere': 1, 'cubilia': 1, 'curae;': 1, 'Nulla': 4, 'convallis': 1, 'finibus': 3, 'nibh,': 1, 'urna': 1, 'quis.': 1, 'Cras': 1, 'tempor': 2, 'iaculis.': 1, 'ut': 3, 'elit': 2, 'vel': 4, 'felis': 1, 'eleifend': 2, 'bibendum': 2, 'amet': 4, 'mi.': 1, 'Aliquam': 4, 'sed': 5, 'mattis': 2, 'nulla,': 1, 'dignissim': 2, 'diam.': 1, 'a': 3, 'lacus.': 1, 'Aenean': 1, 'lorem': 3, 'arcu,': 1, 'iaculis': 1, 'non': 3, 'mauris': 1, 'ac,': 2, 'semper': 1, 'ligula.': 3, 'Quisque': 1, 'tincidunt': 4, 'nibh': 1, 'enim': 2, 'venenatis,': 1, 'auctor': 1, 'metus': 2, 'fermentum.': 1, 'Sed': 3, 'neque.': 1, 'Praesent': 2, 'scelerisque': 2, 'turpis': 1, 'vitae,': 1, 'accumsan': 2, 'magna.': 2, 'In': 2, 'libero,': 1, 'vel,': 1, 'laoreet': 1, 'erat.': 1, 'vulputate': 1, 'ligula,': 1, 'vehicula': 1, 'Orci': 1, 'varius': 1, 'natoque': 1, 'penatibus': 1, 'magnis': 1, 'dis': 1, 'parturient': 1, 'montes,': 1, 'nascetur': 1, 'ridiculus': 1, 'mus.': 1, 'id': 3, 'est.': 1, 'euismod': 1, 'placerat.': 1, 'erat': 4, 'risus,': 1, 'consequat': 2, 'rhoncus': 2, 'quis,': 1, 'porttitor': 3, 'at': 4, 'sem.': 1, 'Fusce': 2, 'quam': 1, 'sodales': 2, 'imperdiet.': 3, 'Donec': 2, 'porta': 2, 'porta.': 1, 'Pellentesque': 2, 'enim,': 1, 'viverra': 1, 'nisi': 1, 'pulvinar,': 1, 'nisi.': 2, 'Nullam': 2, 'varius,': 1, 'aliquam': 1, 'condimentum,': 1, 'purus': 2, 'ipsum,': 1, 'ligula': 1, 'nunc.': 1, 'Morbi': 2, 'sem,': 1, 'fermentum': 2, 'libero.': 1, 'Proin': 1, 'arcu.': 1, 'Phasellus': 2, 'tempus': 1, 'finibus.': 1, 'hendrerit.': 1, 'congue': 1, 'gravida': 1, 'sodales.': 1, 'Nunc': 1, 'pharetra': 1, 'ullamcorper.': 1, 'hendrerit': 1, 'augue': 1, 'laoreet,': 1, 'feugiat': 1, 'porta,': 1, 'purus,': 1, 'odio': 1, 'tellus.': 2, 'rutrum': 2, 'arcu': 2, 'facilisis.': 1, 'dapibus,': 1, 'sollicitudin': 1, 'vestibulum': 1, 'pellentesque.': 1, 'lectus': 1, 'Maecenas': 1, 'interdum': 1, 'ac': 1, 'volutpat.': 1, 'facilisi.': 1, 'fringilla': 1, 'aliquet.': 1, 'venenatis.': 1}\n"
     ]
    }
   ],
   "source": [
    "def word_count(str):\n",
    "    counts = dict()\n",
    "    words = str.split()\n",
    "\n",
    "    for word in words:\n",
    "        if word in counts:\n",
    "            counts[word] += 1\n",
    "        else:\n",
    "            counts[word] = 1\n",
    "\n",
    "    return counts\n",
    "\n",
    "print( word_count(\"\"\"Lorem ipsum dolor sit amet, consectetur adipiscing elit. Duis commodo, risus eget pellentesque fermentum, tellus risus pulvinar tellus, nec placerat magna massa eget lectus. Nam neque ex, condimentum vitae maximus sit amet, molestie eu quam. Nam sollicitudin, sem quis suscipit luctus, leo nunc lacinia justo, eget venenatis est risus lobortis lorem. Vivamus condimentum egestas nisl, in dictum sapien venenatis vitae. Curabitur condimentum orci tristique libero fringilla, vitae molestie ipsum elementum. Vestibulum ante ipsum primis in faucibus orci luctus et ultrices posuere cubilia curae; Nulla convallis finibus nibh, eget suscipit urna pulvinar quis. Cras tempor pulvinar iaculis. Vestibulum ut elit vel felis eleifend bibendum sit amet vitae mi. Aliquam sed mattis nulla, eget dignissim diam.\n",
    "\n",
    "Vivamus a neque lacus. Aenean lorem arcu, iaculis non mauris ac, semper dictum ligula. Quisque tincidunt nibh non enim venenatis, sed auctor metus fermentum. Sed sit amet dolor neque. Praesent nec ipsum luctus, scelerisque turpis vitae, accumsan magna. In dolor libero, dignissim sed est vel, laoreet tempor erat. Praesent vulputate magna ligula, eu vehicula tellus accumsan vitae. Orci varius natoque penatibus et magnis dis parturient montes, nascetur ridiculus mus. Nulla id dolor est. In euismod vel metus id placerat. Nulla erat risus, consequat et rhoncus quis, porttitor at sem.\n",
    "\n",
    "Fusce suscipit quam vel elit sodales imperdiet. Donec venenatis sapien at porta porta. Pellentesque sapien enim, bibendum viverra nisi pulvinar, eleifend rhoncus nisi. Nullam varius, neque vel aliquam condimentum, purus erat tincidunt ipsum, at sodales ante ligula eget nunc. Morbi vitae porta sem, non fermentum libero. Proin quis porttitor arcu. Phasellus pellentesque tellus sit amet tempus finibus. Sed porttitor lorem et scelerisque hendrerit. Nam congue gravida sodales.\n",
    "\n",
    "Nunc sed pharetra nisi. Pellentesque a est id lorem fermentum ullamcorper. Duis ultrices hendrerit imperdiet. Fusce nec augue ligula. Donec laoreet, tellus ut feugiat porta, libero sapien mattis purus, nec tincidunt odio erat in tellus. Aliquam eu enim ligula. Vivamus rutrum magna et erat consequat imperdiet. Sed dictum pellentesque arcu sit amet facilisis. Aliquam at neque dapibus, sollicitudin arcu ac, rutrum elit. Vestibulum vestibulum tincidunt risus ut pellentesque. Morbi eu lectus lectus. Maecenas interdum ac sem quis volutpat. Aliquam sed finibus magna. Nulla facilisi. Nullam a purus eget sem fringilla aliquet. Duis et pulvinar tellus.\n",
    "\n",
    "Phasellus lacinia finibus venenatis. \n",
    "\"\"\"))"
   ]
  },
  {
   "cell_type": "code",
   "execution_count": null,
   "metadata": {},
   "outputs": [],
   "source": []
  }
 ],
 "metadata": {
  "kernelspec": {
   "display_name": "Python 3",
   "language": "python",
   "name": "python3"
  },
  "language_info": {
   "codemirror_mode": {
    "name": "ipython",
    "version": 3
   },
   "file_extension": ".py",
   "mimetype": "text/x-python",
   "name": "python",
   "nbconvert_exporter": "python",
   "pygments_lexer": "ipython3",
   "version": "3.8.5"
  }
 },
 "nbformat": 4,
 "nbformat_minor": 4
}
